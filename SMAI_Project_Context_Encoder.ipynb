{
  "nbformat": 4,
  "nbformat_minor": 0,
  "metadata": {
    "kernelspec": {
      "language": "python",
      "display_name": "Python 3",
      "name": "python3"
    },
    "language_info": {
      "name": "python",
      "version": "3.7.10",
      "mimetype": "text/x-python",
      "codemirror_mode": {
        "name": "ipython",
        "version": 3
      },
      "pygments_lexer": "ipython3",
      "nbconvert_exporter": "python",
      "file_extension": ".py"
    },
    "colab": {
      "name": "SMAI Project_Context Encoder",
      "provenance": [],
      "collapsed_sections": []
    }
  },
  "cells": [
    {
      "cell_type": "code",
      "metadata": {
        "id": "NT78c7l4enz_",
        "trusted": true
      },
      "source": [
        "import torch\n",
        "import torchvision\n",
        "import torch.nn as nn\n",
        "import torch.optim as optim\n",
        "import torch.nn.functional as F\n",
        "from torch.utils.data import DataLoader\n",
        "import torchvision.datasets as datasets\n",
        "import torchvision.transforms as transforms\n",
        "import matplotlib.pyplot as plt\n",
        "\n",
        "# from google.colab import files\n",
        "import helper"
      ],
      "execution_count": null,
      "outputs": []
    },
    {
      "cell_type": "code",
      "metadata": {
        "id": "ABMBhRZ5epkD",
        "trusted": true,
        "outputId": "04464471-6001-4ceb-8d4a-f8a5d49ea453"
      },
      "source": [
        "device = torch.device('cuda' if torch.cuda.is_available() else 'cpu')\n",
        "print(torch.cuda.get_device_name(0))"
      ],
      "execution_count": null,
      "outputs": [
        {
          "output_type": "stream",
          "text": [
            "Tesla P100-PCIE-16GB\n"
          ],
          "name": "stdout"
        }
      ]
    },
    {
      "cell_type": "markdown",
      "metadata": {
        "id": "8sPGjMtQRv6j"
      },
      "source": [
        "#**Loading Train and Test Set in 80:20 Split Ratio :**"
      ]
    },
    {
      "cell_type": "code",
      "metadata": {
        "id": "7sPGET2WMW9k",
        "trusted": true,
        "outputId": "59d2f0e7-e9a5-4f52-8f74-f9e908d4e9c5"
      },
      "source": [
        "# Set device configuration\n",
        "\n",
        "device=torch.device('cuda' if torch.cuda.is_available() else 'cpu')\n",
        "print(torch.cuda.get_device_name(0))\n",
        "\n",
        "# Hyperparameters\n",
        "\n",
        "num_epochs=25\n",
        "batch_size=64\n",
        "learning_rate=3e-4\n",
        "\n",
        "transform = transforms.Compose([transforms.Scale(128),\n",
        "                                    transforms.CenterCrop(128),\n",
        "                                    transforms.ToTensor(),\n",
        "                                    transforms.Normalize((0.5, 0.5, 0.5), (0.5, 0.5, 0.5))])\n",
        "\n",
        "\n",
        "\n",
        "# # Load Dataset\n",
        "\n",
        "total_dataset = datasets.ImageFolder(root='../input/scene-classification', transform=transform )\n",
        "\n",
        "print(len(total_dataset))\n",
        "\n",
        "\n",
        "\n",
        "train_size = int(0.8 * len(total_dataset))\n",
        "test_size = len(total_dataset) - train_size\n",
        "train_dataset, test_dataset = torch.utils.data.random_split(total_dataset, [train_size, test_size])\n",
        "\n",
        "train_dataloader = DataLoader(train_dataset, batch_size = batch_size, shuffle=True)\n",
        "test_dataloader = DataLoader(test_dataset, batch_size = batch_size, shuffle=True)\n",
        "\n",
        "print(len(train_dataset))\n",
        "print(len(test_dataset))"
      ],
      "execution_count": null,
      "outputs": [
        {
          "output_type": "stream",
          "text": [
            "Tesla P100-PCIE-16GB\n",
            "24335\n",
            "19468\n",
            "4867\n"
          ],
          "name": "stdout"
        }
      ]
    },
    {
      "cell_type": "code",
      "metadata": {
        "id": "AjXvAzfQNaad",
        "trusted": true,
        "outputId": "fcbe7d5d-a46a-4b38-f260-79b3531504d4"
      },
      "source": [
        "# Range of Image pixels after Normalization\n",
        "\n",
        "dataiter = iter(train_dataloader)\n",
        "images, labels = dataiter.next()\n",
        "print(torch.min(images), torch.max(images))"
      ],
      "execution_count": null,
      "outputs": [
        {
          "output_type": "stream",
          "text": [
            "tensor(-1.) tensor(1.)\n"
          ],
          "name": "stdout"
        }
      ]
    },
    {
      "cell_type": "code",
      "metadata": {
        "id": "3V44hrQEypkJ",
        "trusted": true,
        "outputId": "7a5e813c-0f10-4614-8672-ef706f45941b"
      },
      "source": [
        "img = next(iter(train_dataloader))[0][1]\n",
        "print(img.shape)\n",
        "plt.imshow(transforms.ToPILImage()(img))"
      ],
      "execution_count": null,
      "outputs": [
        {
          "output_type": "stream",
          "text": [
            "torch.Size([3, 128, 128])\n"
          ],
          "name": "stdout"
        },
        {
          "output_type": "execute_result",
          "data": {
            "text/plain": [
              "<matplotlib.image.AxesImage at 0x7f91f52dae10>"
            ]
          },
          "metadata": {
            "tags": []
          },
          "execution_count": 37
        },
        {
          "output_type": "display_data",
          "data": {
            "text/plain": [
              "<Figure size 432x288 with 1 Axes>"
            ],
            "image/png": "[encoded data removed]"
          },
          "metadata": {
            "tags": [],
            "needs_background": "light"
          }
        }
      ]
    },
    {
      "cell_type": "markdown",
      "metadata": {
        "id": "NECo0S_3I_a6"
      },
      "source": [
        "# **Context Encoder Model Representation :**"
      ]
    },
    {
      "cell_type": "markdown",
      "metadata": {
        "id": "26cA2RK7Rgfp"
      },
      "source": [
        "#**Generator Model :**"
      ]
    },
    {
      "cell_type": "code",
      "metadata": {
        "id": "9Ga8wCSsH8kL",
        "trusted": true
      },
      "source": [
        "class Generator(nn.Module):\n",
        "\n",
        "    def __init__(self):\n",
        "        self.ngpu=1\n",
        "        super(Generator, self).__init__()\n",
        "\n",
        "        self.encoder = nn.Sequential(\n",
        "\n",
        "            nn.Conv2d(3,64,4,2,1),\n",
        "            nn.LeakyReLU(0.2, inplace=True),\n",
        "\n",
        "            nn.Conv2d(64,64,4,2,1),\n",
        "            nn.BatchNorm2d(64),\n",
        "            nn.LeakyReLU(0.2, inplace=True),\n",
        "\n",
        "            nn.Conv2d(64,128,4,2,1),\n",
        "            nn.BatchNorm2d(128),\n",
        "            nn.LeakyReLU(0.2, inplace=True),\n",
        "\n",
        "            nn.Conv2d(128,256,4,2,1),\n",
        "            nn.BatchNorm2d(256),\n",
        "            nn.LeakyReLU(0.2, inplace=True),\n",
        "\n",
        "            nn.Conv2d(256,512,4,2,1),\n",
        "            nn.BatchNorm2d(512),\n",
        "            nn.LeakyReLU(0.2, inplace=True),\n",
        "\n",
        "            nn.Conv2d(512,4096,4),\n",
        "\n",
        "            nn.BatchNorm2d(4096),\n",
        "            nn.LeakyReLU(0.2, inplace=True),\n",
        "\n",
        "\n",
        "            # Decoder Logic.....\n",
        "\n",
        "            nn.ConvTranspose2d(4096,512, 4, 1, 0),\n",
        "            nn.BatchNorm2d(512),\n",
        "            nn.ReLU(True),\n",
        "\n",
        "            nn.ConvTranspose2d(512, 256, 4, 2, 1),\n",
        "            nn.BatchNorm2d(256),\n",
        "            nn.ReLU(True),\n",
        "\n",
        "            nn.ConvTranspose2d(256, 128, 4, 2, 1),\n",
        "            nn.BatchNorm2d(128),\n",
        "            nn.ReLU(True),\n",
        "\n",
        "            nn.ConvTranspose2d(128, 64, 4, 2, 1),\n",
        "            nn.BatchNorm2d(64),\n",
        "            nn.ReLU(True),\n",
        "\n",
        "            nn.ConvTranspose2d(64, 3, 4, 2, 1),\n",
        "            nn.Tanh()  \n",
        "          )\n",
        "\n",
        "        self.initializeWeights()\n",
        "\n",
        "    def forward(self,x):\n",
        "\n",
        "        if isinstance(input, torch.cuda.FloatTensor) and self.ngpu > 1:\n",
        "            output = nn.parallel.data_parallel(self.encoder,x, range(self.ngpu))\n",
        "        else:\n",
        "            output = self.encoder(x)\n",
        "        return output\n",
        "\n",
        "    def initializeWeights(self):\n",
        "        for modl in self.modules():\n",
        "            if isinstance(modl,nn.Conv2d):\n",
        "                modl.weight.data.normal_(0.0,0.02)\n",
        "                modl.bias.data.fill_(0)\n",
        "\n",
        "            elif isinstance(modl,nn.BatchNorm2d):\n",
        "                modl.weight.data.normal_(1.0,0.02)\n",
        "                modl.bias.data.fill_(0)   "
      ],
      "execution_count": null,
      "outputs": []
    },
    {
      "cell_type": "markdown",
      "metadata": {
        "id": "1D81GrHjRmFC"
      },
      "source": [
        "#**Discriminator Model :**"
      ]
    },
    {
      "cell_type": "code",
      "metadata": {
        "id": "rcDEa5f_TwJY",
        "trusted": true
      },
      "source": [
        "class Discriminator(nn.Module):\n",
        "  \n",
        "    def __init__(self):\n",
        "        self.ngpu=1\n",
        "        super(Discriminator, self).__init__()\n",
        "\n",
        "        self.d_out = nn.Sequential(\n",
        "\n",
        "            nn.Conv2d(3, 64, 4, 2, 1),\n",
        "            nn.LeakyReLU(0.2, inplace=True),\n",
        "\n",
        "            nn.Conv2d(64, 128, 4, 2, 1),\n",
        "            nn.BatchNorm2d(128),\n",
        "            nn.LeakyReLU(0.2, inplace=True),\n",
        "\n",
        "            nn.Conv2d(128, 256, 4, 2, 1),\n",
        "            nn.BatchNorm2d(256),\n",
        "            nn.LeakyReLU(0.2, inplace=True),\n",
        "\n",
        "            nn.Conv2d(256, 512, 4, 2, 1),\n",
        "            nn.BatchNorm2d(512),\n",
        "            nn.LeakyReLU(0.2, inplace=True),\n",
        "\n",
        "            nn.Conv2d(512, 1, 4, 1, 0),  #1 kern * (w-f+2p)/s + 1\n",
        "            nn.Sigmoid()\n",
        "        )\n",
        "        self.initializeWeights()\n",
        "\n",
        "    def forward(self, input):\n",
        "\n",
        "        if isinstance(input, torch.cuda.FloatTensor) and self.ngpu > 1:\n",
        "            output = nn.parallel.data_parallel(self.d_out, input, range(self.ngpu))\n",
        "        else:\n",
        "            output = self.d_out(input)\n",
        "\n",
        "        return output.view(-1, 1)\n",
        "\n",
        "    def initializeWeights(self):\n",
        "\n",
        "        for modl in self.modules():\n",
        "            if isinstance(modl,nn.Conv2d):\n",
        "                modl.weight.data.normal_(0.0,0.02)\n",
        "                modl.bias.data.fill_(0)\n",
        "\n",
        "            elif isinstance(modl,nn.BatchNorm2d):\n",
        "                modl.weight.data.normal_(1.0,0.02)\n",
        "                modl.bias.data.fill_(0)\n",
        "\n",
        "    \n"
      ],
      "execution_count": null,
      "outputs": []
    },
    {
      "cell_type": "markdown",
      "metadata": {
        "id": "YdqHWHHYSbjc"
      },
      "source": [
        "# **Initialize the Network and Number of Epochs :**"
      ]
    },
    {
      "cell_type": "code",
      "metadata": {
        "id": "6joH_ptRD8q1",
        "trusted": true
      },
      "source": [
        "# Initialize network \n",
        "#input_size=1*28*28\n",
        "\n",
        "num_epochs=25\n",
        "\n",
        "model_gen=Generator().to(device)\n",
        "model_disc=Discriminator().to(device)\n",
        "\n",
        "wt_recon=0.999\n",
        "\n",
        "# Loss and optimizer estimation\n",
        "\n",
        "criterion=nn.BCELoss()\n",
        "criterion_mse=nn.MSELoss()\n"
      ],
      "execution_count": null,
      "outputs": []
    },
    {
      "cell_type": "markdown",
      "metadata": {
        "id": "VM9AAEe_Emil"
      },
      "source": [
        "# **Using Adam Optimizer :**"
      ]
    },
    {
      "cell_type": "code",
      "metadata": {
        "id": "xh6adSW7Eii4",
        "trusted": true
      },
      "source": [
        "learning_rate=2e-4\n",
        "optim_disc=optim.Adam(model_disc.parameters(),lr=1e-4, betas=(0.5,0.999))\n",
        "optim_gen=optim.Adam(model_gen.parameters(),lr=5e-4, betas=(0.5,0.999))"
      ],
      "execution_count": null,
      "outputs": []
    },
    {
      "cell_type": "markdown",
      "metadata": {
        "id": "YRUVn8FOEvXn"
      },
      "source": [
        "# **Training Loop over Train Set :**"
      ]
    },
    {
      "cell_type": "code",
      "metadata": {
        "id": "H0b1aIQHW5l6",
        "trusted": true
      },
      "source": [
        "from torch.autograd import Variable\n",
        "\n",
        "ImgDim=128\n",
        "overlapDim=4\n",
        "\n",
        "input_real = torch.FloatTensor(64, 3, 128, 128)\n",
        "input_cropped = torch.FloatTensor(64, 3, 128, 128)\n",
        "real_center = torch.FloatTensor(64, 3,int(ImgDim/2),int(ImgDim/2))\n",
        " \n",
        "cuda_avail = torch.cuda.is_available()\n",
        "if(cuda_avail):\n",
        "    input_real = Variable(input_real)\n",
        "    input_cropped = Variable(input_cropped)\n",
        "    real_center= Variable(real_center)"
      ],
      "execution_count": null,
      "outputs": []
    },
    {
      "cell_type": "code",
      "metadata": {
        "trusted": true,
        "id": "FIAdgJ3xQJhC"
      },
      "source": [
        "gen_loss_lst=[]\n",
        "disc_loss_lst=[]"
      ],
      "execution_count": null,
      "outputs": []
    },
    {
      "cell_type": "code",
      "metadata": {
        "id": "Ie6eShebfRWi",
        "trusted": true,
        "outputId": "cb21940f-37fb-4cc5-a090-372a693b38ca"
      },
      "source": [
        "# Train Neural Network\n",
        "\n",
        "import torchvision.utils as vutils\n",
        "overlapL2Weight = 10\n",
        "ld = 1\n",
        "\n",
        "for epoch in range(num_epochs):\n",
        "    gen_l=[]\n",
        "    disc_l=[]\n",
        "    for batch_id, (img,targets) in enumerate(train_dataloader):\n",
        "\n",
        "        real_img = img\n",
        "        real_center_img = real_img[:,:,int(ImgDim/4):int(ImgDim/4)+int(ImgDim/2),int(ImgDim/4):int(ImgDim/4)+int(ImgDim/2)]\n",
        "        batch_size = real_img.size(0)\n",
        "\n",
        "        #Initializing new image data\n",
        "        input_real = torch.FloatTensor(batch_size, 3, 128, 128)\n",
        "        input_cropped = torch.FloatTensor(batch_size, 3, 128, 128)\n",
        "        real_center = torch.FloatTensor(batch_size, 3,int(ImgDim/2),int(ImgDim/2))\n",
        "\n",
        "        #Image Data Loading in assigned variables.\n",
        "        input_real.data.resize_(real_img.size()).copy_(real_img)\n",
        "        input_cropped.data.resize_(real_img.size()).copy_(real_img)\n",
        "        real_center.data.resize_(real_center_img.size()).copy_(real_center_img)\n",
        "\n",
        "        #Cropping Image with masking certain dimension.\n",
        "        input_cropped.data[:,0,int(ImgDim/4+overlapDim):int(ImgDim/4+ImgDim/2-overlapDim),int(ImgDim/4+overlapDim):int(ImgDim/4+ImgDim/2-overlapDim)] = 2*117.0/255.0 - 1.0\n",
        "        input_cropped.data[:,1,int(ImgDim/4+overlapDim):int(ImgDim/4+ImgDim/2-overlapDim),int(ImgDim/4+overlapDim):int(ImgDim/4+ImgDim/2-overlapDim)] = 2*104.0/255.0 - 1.0\n",
        "        input_cropped.data[:,2,int(ImgDim/4+overlapDim):int(ImgDim/4+ImgDim/2-overlapDim),int(ImgDim/4+overlapDim):int(ImgDim/4+ImgDim/2-overlapDim)] = 2*123.0/255.0 - 1.0\n",
        "\n",
        "\n",
        "\n",
        "        img=img.to(device)\n",
        "        real_center = real_center.to(device)\n",
        "        batch_size=img.shape[0]\n",
        "\n",
        "        model_disc.zero_grad()\n",
        "        label=(torch.ones(batch_size)).to(device)\n",
        "\n",
        "\n",
        "\n",
        "\n",
        "\n",
        "        # Training with real image\n",
        "\n",
        "        output_disc=model_disc(real_center).flatten()\n",
        "        ld_real=criterion(output_disc,label) # Output tends to 1\n",
        "        input_cropped=input_cropped.to(device)\n",
        "\n",
        "\n",
        "        # Training with fake image\n",
        "        fake=model_gen(input_cropped)\n",
        "        \n",
        "        # Passing the cropped image through generator model \n",
        "\n",
        "        label=(torch.zeros(batch_size)).to(device)\n",
        "        #print(fake.shape)\n",
        "\n",
        "        output_disc=model_disc(fake.detach()).flatten()\n",
        "        ld_fake=criterion(output_disc,label)  # Output tends to 0\n",
        "\n",
        "        ld=ld_real+ld_fake   # loss of discriminator\n",
        "        ld.backward()\n",
        "        optim_disc.step()\n",
        "\n",
        "        ### Train Generator :  max(log(D(G(z))))\n",
        "\n",
        "        model_gen.zero_grad()\n",
        "        label=torch.ones(batch_size).to(device)\n",
        "\n",
        "        output=model_disc(fake).flatten()\n",
        "        loss_adv=criterion(output,label)\n",
        "\n",
        "\n",
        "\n",
        "        loss_recon=criterion_mse(fake,real_center)  # To be removed later...\n",
        "\n",
        "        loss_gen= wt_recon * loss_recon + (1-wt_recon) * loss_adv\n",
        "\n",
        "        loss_gen.backward()\n",
        "        optim_gen.step()\n",
        "\n",
        "        if batch_id % 100 == 0:\n",
        "            print(\n",
        "              f\"Epoch [{epoch}/{num_epochs}] Batch {batch_id}/{len(train_dataloader)} \\\n",
        "                Loss D: {ld:.4f}, loss G: {loss_gen:.4f}\"\n",
        "            )\n",
        "        \n",
        "        if epoch<10:\n",
        "            gen_l.append(loss_gen)\n",
        "            disc_l.append(ld)\n",
        "\n",
        "    if epoch<10:\n",
        "        gen_loss_lst.append(sum(gen_l)/len(gen_l))\n",
        "        disc_loss_lst.append(sum(disc_l)/len(disc_l))\n",
        "    \n",
        "\n",
        "\n",
        "    \n"
      ],
      "execution_count": null,
      "outputs": [
        {
          "output_type": "stream",
          "text": [
            "Epoch [0/25] Batch 0/305                 Loss D: 1.8626, loss G: 0.6137\n",
            "Epoch [0/25] Batch 100/305                 Loss D: 0.4577, loss G: 0.1146\n",
            "Epoch [0/25] Batch 200/305                 Loss D: 0.0456, loss G: 0.1134\n",
            "Epoch [0/25] Batch 300/305                 Loss D: 0.2407, loss G: 0.1099\n",
            "Epoch [1/25] Batch 0/305                 Loss D: 0.3134, loss G: 0.1018\n",
            "Epoch [1/25] Batch 100/305                 Loss D: 0.0687, loss G: 0.0933\n",
            "Epoch [1/25] Batch 200/305                 Loss D: 0.0317, loss G: 0.1062\n",
            "Epoch [1/25] Batch 300/305                 Loss D: 0.0163, loss G: 0.1155\n",
            "Epoch [2/25] Batch 0/305                 Loss D: 0.2530, loss G: 0.1066\n",
            "Epoch [2/25] Batch 100/305                 Loss D: 0.3758, loss G: 0.1006\n",
            "Epoch [2/25] Batch 200/305                 Loss D: 0.1343, loss G: 0.1032\n",
            "Epoch [2/25] Batch 300/305                 Loss D: 0.0100, loss G: 0.1146\n",
            "Epoch [3/25] Batch 0/305                 Loss D: 0.1469, loss G: 0.1033\n",
            "Epoch [3/25] Batch 100/305                 Loss D: 1.0656, loss G: 0.0885\n",
            "Epoch [3/25] Batch 200/305                 Loss D: 0.1635, loss G: 0.0929\n",
            "Epoch [3/25] Batch 300/305                 Loss D: 0.0579, loss G: 0.0983\n",
            "Epoch [4/25] Batch 0/305                 Loss D: 0.0492, loss G: 0.0958\n",
            "Epoch [4/25] Batch 100/305                 Loss D: 0.0402, loss G: 0.1007\n",
            "Epoch [4/25] Batch 200/305                 Loss D: 0.1121, loss G: 0.1045\n",
            "Epoch [4/25] Batch 300/305                 Loss D: 0.0160, loss G: 0.1202\n",
            "Epoch [5/25] Batch 0/305                 Loss D: 0.0161, loss G: 0.1027\n",
            "Epoch [5/25] Batch 100/305                 Loss D: 0.0043, loss G: 0.0915\n",
            "Epoch [5/25] Batch 200/305                 Loss D: 0.4857, loss G: 0.1058\n",
            "Epoch [5/25] Batch 300/305                 Loss D: 0.0236, loss G: 0.1134\n",
            "Epoch [6/25] Batch 0/305                 Loss D: 0.0291, loss G: 0.1080\n",
            "Epoch [6/25] Batch 100/305                 Loss D: 0.2229, loss G: 0.0898\n",
            "Epoch [6/25] Batch 200/305                 Loss D: 0.0296, loss G: 0.0958\n",
            "Epoch [6/25] Batch 300/305                 Loss D: 0.0611, loss G: 0.1091\n",
            "Epoch [7/25] Batch 0/305                 Loss D: 0.0200, loss G: 0.0868\n",
            "Epoch [7/25] Batch 100/305                 Loss D: 0.5978, loss G: 0.0973\n",
            "Epoch [7/25] Batch 200/305                 Loss D: 0.7889, loss G: 0.0942\n",
            "Epoch [7/25] Batch 300/305                 Loss D: 1.0316, loss G: 0.1000\n",
            "Epoch [8/25] Batch 0/305                 Loss D: 0.0259, loss G: 0.0897\n",
            "Epoch [8/25] Batch 100/305                 Loss D: 0.3598, loss G: 0.0881\n",
            "Epoch [8/25] Batch 200/305                 Loss D: 0.2141, loss G: 0.0948\n",
            "Epoch [8/25] Batch 300/305                 Loss D: 1.6686, loss G: 0.0959\n",
            "Epoch [9/25] Batch 0/305                 Loss D: 0.0081, loss G: 0.0957\n",
            "Epoch [9/25] Batch 100/305                 Loss D: 0.2101, loss G: 0.0981\n",
            "Epoch [9/25] Batch 200/305                 Loss D: 0.1616, loss G: 0.0936\n",
            "Epoch [9/25] Batch 300/305                 Loss D: 0.0026, loss G: 0.0821\n",
            "Epoch [10/25] Batch 0/305                 Loss D: 0.0105, loss G: 0.0890\n",
            "Epoch [10/25] Batch 100/305                 Loss D: 0.7744, loss G: 0.0802\n",
            "Epoch [10/25] Batch 200/305                 Loss D: 0.3048, loss G: 0.0816\n",
            "Epoch [10/25] Batch 300/305                 Loss D: 0.3380, loss G: 0.0810\n",
            "Epoch [11/25] Batch 0/305                 Loss D: 0.0468, loss G: 0.0788\n",
            "Epoch [11/25] Batch 100/305                 Loss D: 1.0004, loss G: 0.0721\n",
            "Epoch [11/25] Batch 200/305                 Loss D: 0.3893, loss G: 0.0748\n",
            "Epoch [11/25] Batch 300/305                 Loss D: 0.3540, loss G: 0.0786\n",
            "Epoch [12/25] Batch 0/305                 Loss D: 0.8385, loss G: 0.0686\n",
            "Epoch [12/25] Batch 100/305                 Loss D: 0.7496, loss G: 0.0729\n",
            "Epoch [12/25] Batch 200/305                 Loss D: 0.2791, loss G: 0.0641\n",
            "Epoch [12/25] Batch 300/305                 Loss D: 1.4936, loss G: 0.0716\n",
            "Epoch [13/25] Batch 0/305                 Loss D: 0.4720, loss G: 0.0701\n",
            "Epoch [13/25] Batch 100/305                 Loss D: 1.6399, loss G: 0.0707\n",
            "Epoch [13/25] Batch 200/305                 Loss D: 0.0826, loss G: 0.0735\n",
            "Epoch [13/25] Batch 300/305                 Loss D: 0.7160, loss G: 0.0726\n",
            "Epoch [14/25] Batch 0/305                 Loss D: 0.1877, loss G: 0.0644\n",
            "Epoch [14/25] Batch 100/305                 Loss D: 0.0144, loss G: 0.0626\n",
            "Epoch [14/25] Batch 200/305                 Loss D: 0.1931, loss G: 0.0679\n",
            "Epoch [14/25] Batch 300/305                 Loss D: 0.4167, loss G: 0.0623\n",
            "Epoch [15/25] Batch 0/305                 Loss D: 0.7733, loss G: 0.0660\n",
            "Epoch [15/25] Batch 100/305                 Loss D: 0.1635, loss G: 0.0614\n",
            "Epoch [15/25] Batch 200/305                 Loss D: 0.2500, loss G: 0.0638\n",
            "Epoch [15/25] Batch 300/305                 Loss D: 0.1293, loss G: 0.0602\n",
            "Epoch [16/25] Batch 0/305                 Loss D: 0.1790, loss G: 0.0554\n",
            "Epoch [16/25] Batch 100/305                 Loss D: 0.3900, loss G: 0.0536\n",
            "Epoch [16/25] Batch 200/305                 Loss D: 1.0640, loss G: 0.0577\n",
            "Epoch [16/25] Batch 300/305                 Loss D: 1.3010, loss G: 0.0601\n",
            "Epoch [17/25] Batch 0/305                 Loss D: 0.4156, loss G: 0.0598\n",
            "Epoch [17/25] Batch 100/305                 Loss D: 1.3243, loss G: 0.0500\n",
            "Epoch [17/25] Batch 200/305                 Loss D: 0.1192, loss G: 0.0509\n",
            "Epoch [17/25] Batch 300/305                 Loss D: 0.4605, loss G: 0.0594\n",
            "Epoch [18/25] Batch 0/305                 Loss D: 0.4923, loss G: 0.0535\n",
            "Epoch [18/25] Batch 100/305                 Loss D: 0.5820, loss G: 0.0539\n",
            "Epoch [18/25] Batch 200/305                 Loss D: 0.9252, loss G: 0.0593\n",
            "Epoch [18/25] Batch 300/305                 Loss D: 0.3504, loss G: 0.0571\n",
            "Epoch [19/25] Batch 0/305                 Loss D: 0.9904, loss G: 0.0494\n",
            "Epoch [19/25] Batch 100/305                 Loss D: 1.3058, loss G: 0.0483\n",
            "Epoch [19/25] Batch 200/305                 Loss D: 0.2642, loss G: 0.0527\n",
            "Epoch [19/25] Batch 300/305                 Loss D: 1.3727, loss G: 0.0501\n",
            "Epoch [20/25] Batch 0/305                 Loss D: 0.7636, loss G: 0.0505\n",
            "Epoch [20/25] Batch 100/305                 Loss D: 0.1396, loss G: 0.0514\n",
            "Epoch [20/25] Batch 200/305                 Loss D: 0.8631, loss G: 0.0536\n",
            "Epoch [20/25] Batch 300/305                 Loss D: 0.4854, loss G: 0.0495\n",
            "Epoch [21/25] Batch 0/305                 Loss D: 0.6292, loss G: 0.0477\n",
            "Epoch [21/25] Batch 100/305                 Loss D: 0.3912, loss G: 0.0481\n",
            "Epoch [21/25] Batch 200/305                 Loss D: 0.1232, loss G: 0.0456\n",
            "Epoch [21/25] Batch 300/305                 Loss D: 0.6370, loss G: 0.0508\n",
            "Epoch [22/25] Batch 0/305                 Loss D: 0.8697, loss G: 0.0458\n",
            "Epoch [22/25] Batch 100/305                 Loss D: 1.7423, loss G: 0.0407\n",
            "Epoch [22/25] Batch 200/305                 Loss D: 0.7739, loss G: 0.0436\n",
            "Epoch [22/25] Batch 300/305                 Loss D: 0.5595, loss G: 0.0494\n",
            "Epoch [23/25] Batch 0/305                 Loss D: 1.4168, loss G: 0.0460\n",
            "Epoch [23/25] Batch 100/305                 Loss D: 4.2335, loss G: 0.0399\n",
            "Epoch [23/25] Batch 200/305                 Loss D: 0.3053, loss G: 0.0434\n",
            "Epoch [23/25] Batch 300/305                 Loss D: 0.6977, loss G: 0.0409\n",
            "Epoch [24/25] Batch 0/305                 Loss D: 0.8182, loss G: 0.0437\n",
            "Epoch [24/25] Batch 100/305                 Loss D: 1.2842, loss G: 0.0397\n",
            "Epoch [24/25] Batch 200/305                 Loss D: 0.6558, loss G: 0.0425\n",
            "Epoch [24/25] Batch 300/305                 Loss D: 1.1314, loss G: 0.0413\n"
          ],
          "name": "stdout"
        }
      ]
    },
    {
      "cell_type": "code",
      "metadata": {
        "trusted": true,
        "id": "JOF7K70jQJhE"
      },
      "source": [
        "import os\n",
        "\n",
        "os.mkdir(str(\"res2\"))\n",
        "os.mkdir(str(\"res2/real_images\"))\n",
        "os.mkdir(str(\"res2/cropped_images\"))\n",
        "os.mkdir(str(\"res2/recon_images\"))"
      ],
      "execution_count": null,
      "outputs": []
    },
    {
      "cell_type": "markdown",
      "metadata": {
        "id": "1SYtISm4RYKR"
      },
      "source": [
        "#**Testing over Test Set :**"
      ]
    },
    {
      "cell_type": "code",
      "metadata": {
        "id": "JPoJqnRWiHMl",
        "trusted": true
      },
      "source": [
        "import torchvision.utils as vutils\n",
        "from torch.autograd import Variable\n",
        "\n",
        "def test(testloader):\n",
        "\n",
        "    for batch_id, (img,targets) in enumerate(testloader):\n",
        "\n",
        "        ImgDim=128\n",
        "        overlapDim=4\n",
        "\n",
        "        batch_size=img.shape[0]\n",
        "\n",
        "\n",
        "        input_real = torch.FloatTensor(batch_size, 3, 128, 128)\n",
        "        input_cropped = torch.FloatTensor(batch_size, 3, 128, 128)\n",
        "        real_center = torch.FloatTensor(batch_size, 3,int(ImgDim/2),int(ImgDim/2))\n",
        "\n",
        "\n",
        "\n",
        "        #print(img.shape)\n",
        "\n",
        "\n",
        "        cuda_avail = torch.cuda.is_available()\n",
        "        if(cuda_avail):\n",
        "            input_real = Variable(input_real)\n",
        "            input_cropped = Variable(input_cropped)\n",
        "            real_center= Variable(real_center)\n",
        "\n",
        "        input_cropped=input_cropped.to(device)\n",
        "        input_real=input_real.to(device)\n",
        "        real_center=real_center.to(device)\n",
        "\n",
        "        real_img = img\n",
        "        batch_size = real_img.size(0)\n",
        "\n",
        "        input_real.data.resize_(real_img.size()).copy_(real_img)\n",
        "        input_cropped.data.resize_(real_img.size()).copy_(real_img)\n",
        "\n",
        "        input_cropped.data[:,0,int(ImgDim/4+overlapDim):int(ImgDim/4+ImgDim/2-overlapDim),int(ImgDim/4+overlapDim):int(ImgDim/4+ImgDim/2-overlapDim)] = 2*117.0/255.0 - 1.0\n",
        "        input_cropped.data[:,1,int(ImgDim/4+overlapDim):int(ImgDim/4+ImgDim/2-overlapDim),int(ImgDim/4+overlapDim):int(ImgDim/4+ImgDim/2-overlapDim)] = 2*104.0/255.0 - 1.0\n",
        "        input_cropped.data[:,2,int(ImgDim/4+overlapDim):int(ImgDim/4+ImgDim/2-overlapDim),int(ImgDim/4+overlapDim):int(ImgDim/4+ImgDim/2-overlapDim)] = 2*123.0/255.0 - 1.0\n",
        "\n",
        "        fake=model_gen(input_cropped)\n",
        "\n",
        "        recon_image = input_cropped.clone()\n",
        "        recon_image.data[:,:,int(ImgDim/4):int(ImgDim/4+ImgDim/2),int(ImgDim/4):int(ImgDim/4+ImgDim/2)] = fake.data\n",
        "\n",
        "\n",
        "\n",
        "\n",
        "        vutils.save_image(real_img,'./res2/real_images/val_real_samples%d.png' %(batch_id),normalize=True)\n",
        "        vutils.save_image(input_cropped.data,'./res2/cropped_images/val_cropped_samples%d.png' %(batch_id),normalize=True)\n",
        "        vutils.save_image(recon_image.data,'./res2/recon_images/val_recon_samples%d.png' %(batch_id),normalize=True)\n",
        "\n"
      ],
      "execution_count": null,
      "outputs": []
    },
    {
      "cell_type": "code",
      "metadata": {
        "id": "3cbyHgqK8O_w",
        "trusted": true
      },
      "source": [
        "test(test_dataloader)\n"
      ],
      "execution_count": null,
      "outputs": []
    },
    {
      "cell_type": "markdown",
      "metadata": {
        "id": "OK9x5XOdQJhI"
      },
      "source": [
        "# **Plotting Average Generator-Discriminator Loss Vs Epochs Graph**"
      ]
    },
    {
      "cell_type": "code",
      "metadata": {
        "id": "C0OfdZUR8PH0",
        "trusted": true,
        "outputId": "9ea30562-a49f-45c1-faa3-de279a789194"
      },
      "source": [
        "epochLst=[i for i in range(1,11)]\n",
        "l1=[]\n",
        "l2=[]\n",
        "\n",
        "\n",
        "l1=gen_loss_lst\n",
        "l2=disc_loss_lst\n",
        "\n",
        "\n",
        "plt.title(\"Average Generator Loss vs Epochs graph\",fontsize='14') \n",
        "\n",
        "plt.plot(epochLst,l1,label = \"Generator Loss\",color='red')\n",
        "\n",
        "plt.xlabel(\"Count of Epochs\",fontsize='14')  \n",
        "plt.ylabel(\"Average Loss\",fontsize='14')  \n",
        "\n",
        "plt.ylim(0,0.2)\n",
        "plt.xticks(epochLst)\n",
        "\n",
        "plt.legend()\n",
        "plt.show()"
      ],
      "execution_count": null,
      "outputs": [
        {
          "output_type": "display_data",
          "data": {
            "text/plain": [
              "<Figure size 432x288 with 1 Axes>"
            ],
            "image/png": "[encoded data removed]"
          },
          "metadata": {
            "tags": [],
            "needs_background": "light"
          }
        }
      ]
    },
    {
      "cell_type": "code",
      "metadata": {
        "id": "6wff26Xo8PPE",
        "trusted": true
      },
      "source": [
        "res_dataset = datasets.ImageFolder(root='./res', transform=transform )\n",
        "print(len(res_dataset))"
      ],
      "execution_count": null,
      "outputs": []
    },
    {
      "cell_type": "markdown",
      "metadata": {
        "id": "j238uqhkS0QV"
      },
      "source": [
        "## **Saving Images Locally**"
      ]
    },
    {
      "cell_type": "code",
      "metadata": {
        "id": "7Ag1gZtGfDtD"
      },
      "source": [
        "!zip -m images.zip output*.png"
      ],
      "execution_count": null,
      "outputs": []
    },
    {
      "cell_type": "code",
      "metadata": {
        "id": "OfYW0PGLfD2x",
        "trusted": true
      },
      "source": [
        "!zip -m images.zip ./res2/recon_images/val_recon_samples*.png"
      ],
      "execution_count": null,
      "outputs": []
    },
    {
      "cell_type": "code",
      "metadata": {
        "trusted": true,
        "id": "2APwOKojQJhM"
      },
      "source": [
        "!zip -m images.zip ./res2/real_images/val_real_samples*.png"
      ],
      "execution_count": null,
      "outputs": []
    },
    {
      "cell_type": "code",
      "metadata": {
        "trusted": true,
        "id": "LwpaP__7QJhM",
        "outputId": "6de45d9a-d5ba-4b90-af34-53a79e4662a9"
      },
      "source": [
        "!zip -m images.zip ./res2/cropped_images/val_cropped_samples*.png"
      ],
      "execution_count": null,
      "outputs": [
        {
          "output_type": "stream",
          "text": [
            "  adding: res2/cropped_images/val_cropped_samples0.png (deflated 0%)\n",
            "  adding: res2/cropped_images/val_cropped_samples1.png (deflated 0%)\n",
            "  adding: res2/cropped_images/val_cropped_samples10.png (deflated 0%)\n",
            "  adding: res2/cropped_images/val_cropped_samples11.png (deflated 0%)\n",
            "  adding: res2/cropped_images/val_cropped_samples12.png (deflated 0%)\n",
            "  adding: res2/cropped_images/val_cropped_samples13.png (deflated 0%)\n",
            "  adding: res2/cropped_images/val_cropped_samples14.png (deflated 0%)\n",
            "  adding: res2/cropped_images/val_cropped_samples15.png (deflated 0%)\n",
            "  adding: res2/cropped_images/val_cropped_samples16.png (deflated 0%)\n",
            "  adding: res2/cropped_images/val_cropped_samples17.png (deflated 0%)\n",
            "  adding: res2/cropped_images/val_cropped_samples18.png (deflated 0%)\n",
            "  adding: res2/cropped_images/val_cropped_samples19.png (deflated 0%)\n",
            "  adding: res2/cropped_images/val_cropped_samples2.png (deflated 0%)\n",
            "  adding: res2/cropped_images/val_cropped_samples20.png (deflated 0%)\n",
            "  adding: res2/cropped_images/val_cropped_samples21.png (deflated 0%)\n",
            "  adding: res2/cropped_images/val_cropped_samples22.png (deflated 0%)\n",
            "  adding: res2/cropped_images/val_cropped_samples23.png (deflated 0%)\n",
            "  adding: res2/cropped_images/val_cropped_samples24.png (deflated 0%)\n",
            "  adding: res2/cropped_images/val_cropped_samples25.png (deflated 0%)\n",
            "  adding: res2/cropped_images/val_cropped_samples26.png (deflated 0%)\n",
            "  adding: res2/cropped_images/val_cropped_samples27.png (deflated 0%)\n",
            "  adding: res2/cropped_images/val_cropped_samples28.png (deflated 0%)\n",
            "  adding: res2/cropped_images/val_cropped_samples29.png (deflated 0%)\n",
            "  adding: res2/cropped_images/val_cropped_samples3.png (deflated 0%)\n",
            "  adding: res2/cropped_images/val_cropped_samples30.png (deflated 0%)\n",
            "  adding: res2/cropped_images/val_cropped_samples31.png (deflated 0%)\n",
            "  adding: res2/cropped_images/val_cropped_samples32.png (deflated 0%)\n",
            "  adding: res2/cropped_images/val_cropped_samples33.png (deflated 0%)\n",
            "  adding: res2/cropped_images/val_cropped_samples34.png (deflated 0%)\n",
            "  adding: res2/cropped_images/val_cropped_samples35.png (deflated 0%)\n",
            "  adding: res2/cropped_images/val_cropped_samples36.png (deflated 0%)\n",
            "  adding: res2/cropped_images/val_cropped_samples37.png (deflated 0%)\n",
            "  adding: res2/cropped_images/val_cropped_samples38.png (deflated 0%)\n",
            "  adding: res2/cropped_images/val_cropped_samples39.png (deflated 0%)\n",
            "  adding: res2/cropped_images/val_cropped_samples4.png (deflated 0%)\n",
            "  adding: res2/cropped_images/val_cropped_samples40.png (deflated 0%)\n",
            "  adding: res2/cropped_images/val_cropped_samples41.png (deflated 0%)\n",
            "  adding: res2/cropped_images/val_cropped_samples42.png (deflated 0%)\n",
            "  adding: res2/cropped_images/val_cropped_samples43.png (deflated 0%)\n",
            "  adding: res2/cropped_images/val_cropped_samples44.png (deflated 0%)\n",
            "  adding: res2/cropped_images/val_cropped_samples45.png (deflated 0%)\n",
            "  adding: res2/cropped_images/val_cropped_samples46.png (deflated 0%)\n",
            "  adding: res2/cropped_images/val_cropped_samples47.png (deflated 0%)\n",
            "  adding: res2/cropped_images/val_cropped_samples48.png (deflated 0%)\n",
            "  adding: res2/cropped_images/val_cropped_samples49.png (deflated 0%)\n",
            "  adding: res2/cropped_images/val_cropped_samples5.png (deflated 0%)\n",
            "  adding: res2/cropped_images/val_cropped_samples50.png (deflated 0%)\n",
            "  adding: res2/cropped_images/val_cropped_samples51.png (deflated 0%)\n",
            "  adding: res2/cropped_images/val_cropped_samples52.png (deflated 0%)\n",
            "  adding: res2/cropped_images/val_cropped_samples53.png (deflated 0%)\n",
            "  adding: res2/cropped_images/val_cropped_samples54.png (deflated 0%)\n",
            "  adding: res2/cropped_images/val_cropped_samples55.png (deflated 0%)\n",
            "  adding: res2/cropped_images/val_cropped_samples56.png (deflated 0%)\n",
            "  adding: res2/cropped_images/val_cropped_samples57.png (deflated 0%)\n",
            "  adding: res2/cropped_images/val_cropped_samples58.png (deflated 0%)\n",
            "  adding: res2/cropped_images/val_cropped_samples59.png (deflated 0%)\n",
            "  adding: res2/cropped_images/val_cropped_samples6.png (deflated 0%)\n",
            "  adding: res2/cropped_images/val_cropped_samples60.png (deflated 0%)\n",
            "  adding: res2/cropped_images/val_cropped_samples61.png (deflated 0%)\n",
            "  adding: res2/cropped_images/val_cropped_samples62.png (deflated 0%)\n",
            "  adding: res2/cropped_images/val_cropped_samples63.png (deflated 0%)\n",
            "  adding: res2/cropped_images/val_cropped_samples64.png (deflated 0%)\n",
            "  adding: res2/cropped_images/val_cropped_samples65.png (deflated 0%)\n",
            "  adding: res2/cropped_images/val_cropped_samples66.png (deflated 0%)\n",
            "  adding: res2/cropped_images/val_cropped_samples67.png (deflated 0%)\n",
            "  adding: res2/cropped_images/val_cropped_samples68.png (deflated 0%)\n",
            "  adding: res2/cropped_images/val_cropped_samples69.png (deflated 0%)\n",
            "  adding: res2/cropped_images/val_cropped_samples7.png (deflated 0%)\n",
            "  adding: res2/cropped_images/val_cropped_samples70.png (deflated 0%)\n",
            "  adding: res2/cropped_images/val_cropped_samples71.png (deflated 0%)\n",
            "  adding: res2/cropped_images/val_cropped_samples72.png (deflated 0%)\n",
            "  adding: res2/cropped_images/val_cropped_samples73.png (deflated 0%)\n",
            "  adding: res2/cropped_images/val_cropped_samples74.png (deflated 0%)\n",
            "  adding: res2/cropped_images/val_cropped_samples75.png (deflated 0%)\n",
            "  adding: res2/cropped_images/val_cropped_samples76.png (deflated 0%)\n",
            "  adding: res2/cropped_images/val_cropped_samples8.png (deflated 0%)\n",
            "  adding: res2/cropped_images/val_cropped_samples9.png (deflated 0%)\n"
          ],
          "name": "stdout"
        }
      ]
    }
  ]
}